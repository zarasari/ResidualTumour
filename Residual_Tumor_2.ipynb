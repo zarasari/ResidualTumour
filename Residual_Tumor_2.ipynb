{
  "nbformat": 4,
  "nbformat_minor": 0,
  "metadata": {
    "kernelspec": {
      "display_name": "Python 3",
      "language": "python",
      "name": "python3"
    },
    "language_info": {
      "codemirror_mode": {
        "name": "ipython",
        "version": 3
      },
      "file_extension": ".py",
      "mimetype": "text/x-python",
      "name": "python",
      "nbconvert_exporter": "python",
      "pygments_lexer": "ipython3",
      "version": "3.7.6"
    },
    "colab": {
      "provenance": [],
      "collapsed_sections": [
        "G1hMp6WUv5eh",
        "w4DM8MHev5el",
        "cxh-xAJOv5en",
        "hF0Zq1nXv5eo",
        "FIb0PLvEv5ex",
        "vPrU4OnQv5e2"
      ]
    }
  },
  "cells": [
    {
      "cell_type": "code",
      "metadata": {
        "id": "OHQ-qSCiv5eW"
      },
      "source": [
        "###### #Following instructions in DataCamp course:\n",
        " \n",
        "#https://campus.datacamp.com/courses/generalized-linear-models-in-python/modeling-binary-data?ex=15\n",
        "#https://towardsdatascience.com/a-quick-guide-on-descriptive-statistics-using-pandas-and-seaborn-2aadc7395f32\n",
        "#https://github.com/VIS-SIG/Wonderful-Wednesdays/tree/master/data/2020/2020-12-09\n",
        "\n",
        "\n",
        "#Import libraries\n",
        " \n",
        "import statsmodels.api as sm #Array based model\n",
        " \n",
        "from statsmodels.formula.api import glm\n",
        " \n",
        "import numpy as np\n",
        "import matplotlib.pyplot as plt\n",
        "\n",
        "#from lifelines import KaplanMeierFitter\n",
        "\n",
        "from sklearn.ensemble import RandomForestClassifier\n",
        "\n"
      ],
      "execution_count": null,
      "outputs": []
    },
    {
      "cell_type": "code",
      "metadata": {
        "id": "ZSoOiYXhv5eY"
      },
      "source": [
        "import seaborn as sns"
      ],
      "execution_count": null,
      "outputs": []
    },
    {
      "cell_type": "code",
      "metadata": {
        "id": "Pf1eZLVov5eZ"
      },
      "source": [
        "import pandas as pd"
      ],
      "execution_count": null,
      "outputs": []
    },
    {
      "cell_type": "code",
      "metadata": {
        "id": "oe2RNOXkv5eZ",
        "colab": {
          "base_uri": "https://localhost:8080/"
        },
        "outputId": "3a08c113-2ccc-435a-9fda-86b01b344a32"
      },
      "source": [
        "import os\n",
        "print(os.getcwd()) #/Users/zahraSari\n"
      ],
      "execution_count": null,
      "outputs": [
        {
          "output_type": "stream",
          "name": "stdout",
          "text": [
            "/content\n"
          ]
        }
      ]
    },
    {
      "cell_type": "code",
      "metadata": {
        "id": "RfFqaO82v5ea",
        "colab": {
          "base_uri": "https://localhost:8080/",
          "height": 224
        },
        "outputId": "124de042-efb6-4461-a07b-0d2bd3fd560e"
      },
      "source": [
        "\n",
        "cwd=os.chdir('/Users/zahraSari/Desktop/ResidualTumor') \n",
        "\n",
        "#Change directory\n",
        "\n",
        "Files = os.listdir(cwd) \n"
      ],
      "execution_count": null,
      "outputs": [
        {
          "output_type": "error",
          "ename": "FileNotFoundError",
          "evalue": "ignored",
          "traceback": [
            "\u001b[0;31m---------------------------------------------------------------------------\u001b[0m",
            "\u001b[0;31mFileNotFoundError\u001b[0m                         Traceback (most recent call last)",
            "\u001b[0;32m<ipython-input-6-1869d99502eb>\u001b[0m in \u001b[0;36m<module>\u001b[0;34m\u001b[0m\n\u001b[0;32m----> 1\u001b[0;31m \u001b[0mcwd\u001b[0m\u001b[0;34m=\u001b[0m\u001b[0mos\u001b[0m\u001b[0;34m.\u001b[0m\u001b[0mchdir\u001b[0m\u001b[0;34m(\u001b[0m\u001b[0;34m'/Users/zahraSari/Desktop/ResidualTumor'\u001b[0m\u001b[0;34m)\u001b[0m\u001b[0;34m\u001b[0m\u001b[0;34m\u001b[0m\u001b[0m\n\u001b[0m\u001b[1;32m      2\u001b[0m \u001b[0;34m\u001b[0m\u001b[0m\n\u001b[1;32m      3\u001b[0m \u001b[0;31m#Change directory\u001b[0m\u001b[0;34m\u001b[0m\u001b[0;34m\u001b[0m\u001b[0;34m\u001b[0m\u001b[0m\n\u001b[1;32m      4\u001b[0m \u001b[0;34m\u001b[0m\u001b[0m\n\u001b[1;32m      5\u001b[0m \u001b[0mFiles\u001b[0m \u001b[0;34m=\u001b[0m \u001b[0mos\u001b[0m\u001b[0;34m.\u001b[0m\u001b[0mlistdir\u001b[0m\u001b[0;34m(\u001b[0m\u001b[0mcwd\u001b[0m\u001b[0;34m)\u001b[0m\u001b[0;34m\u001b[0m\u001b[0;34m\u001b[0m\u001b[0m\n",
            "\u001b[0;31mFileNotFoundError\u001b[0m: [Errno 2] No such file or directory: '/Users/zahraSari/Desktop/ResidualTumor'"
          ]
        }
      ]
    },
    {
      "cell_type": "code",
      "metadata": {
        "scrolled": true,
        "id": "KFFZsBvVv5ea",
        "outputId": "b9daae6b-38bc-4e2f-e321-223e8467f261"
      },
      "source": [
        "#Data from Github : \n",
        "#https://github.com/VIS-SIG/Wonderful-Wednesdays/blob/master/data/2020/2020-12-09/Reexcision.csv    \n",
        "\n",
        "data= pd.read_csv('Book.csv')\n",
        "\n",
        "print(data)\n",
        " \n",
        "#age\n",
        "#tumorsize\n",
        "#histology (hist; 0: others, 1: Invasive-duct./ductal-lob.)\n",
        "#Multifocality (mult.foc; 0: no, 1: yes)\n",
        "#Accomp. in situ (acc.in.situ; 0: others, 1: DCIS and LCIS)\n",
        "#Lymphovascular invasion (lymph.inv; 0: no, 1: yes)\n",
        "#Estrogen-receptor (estr.rec; 0: no, 1: yes)\n",
        "#Progesterone-receptor (prog.rec; 0: no, 1: yes)\n"
      ],
      "execution_count": null,
      "outputs": [
        {
          "output_type": "stream",
          "text": [
            "     RE  age  tumorsize  hist  multfoc  accinsitu  lymphinv  estrrec  progrec\n",
            "0     0   54       24.4     0        0          0         0        0        0\n",
            "1     1   54       27.3     1        0          1         0        1        0\n",
            "2     1   80       28.7     0        0          1         0        0        0\n",
            "3     0   41       22.8     1        0          0         0        1        0\n",
            "4     0   60       31.4     1        0          0         0        0        0\n",
            "..   ..  ...        ...   ...      ...        ...       ...      ...      ...\n",
            "495   0   64       27.9     1        1          0         0        0        0\n",
            "496   0   60        9.3     1        0          1         0        0        0\n",
            "497   0   53       35.4     1        0          0         1        0        0\n",
            "498   0   50        4.0     1        0          0         0        1        0\n",
            "499   1   60       23.5     1        1          1         0        1        1\n",
            "\n",
            "[500 rows x 9 columns]\n"
          ],
          "name": "stdout"
        }
      ]
    },
    {
      "cell_type": "code",
      "metadata": {
        "id": "uRfErd3pv5eb",
        "outputId": "c3d3d6d8-8e33-4d82-a57f-533ad9524dea"
      },
      "source": [
        "\n",
        "print(data.columns.tolist()) #View the column names\n",
        " "
      ],
      "execution_count": null,
      "outputs": [
        {
          "output_type": "stream",
          "text": [
            "['RE', 'age', 'tumorsize', 'hist', 'multfoc', 'accinsitu', 'lymphinv', 'estrrec', 'progrec']\n"
          ],
          "name": "stdout"
        }
      ]
    },
    {
      "cell_type": "code",
      "metadata": {
        "id": "IrHSRGkVv5ec",
        "outputId": "7e02ce6b-fda7-4903-cd68-816627fbeb84"
      },
      "source": [
        "data.info() # Tumor size has 9 unknown variables\n",
        " "
      ],
      "execution_count": null,
      "outputs": [
        {
          "output_type": "stream",
          "text": [
            "<class 'pandas.core.frame.DataFrame'>\n",
            "RangeIndex: 500 entries, 0 to 499\n",
            "Data columns (total 9 columns):\n",
            " #   Column     Non-Null Count  Dtype  \n",
            "---  ------     --------------  -----  \n",
            " 0   RE         500 non-null    int64  \n",
            " 1   age        500 non-null    int64  \n",
            " 2   tumorsize  500 non-null    float64\n",
            " 3   hist       500 non-null    int64  \n",
            " 4   multfoc    500 non-null    int64  \n",
            " 5   accinsitu  500 non-null    int64  \n",
            " 6   lymphinv   500 non-null    int64  \n",
            " 7   estrrec    500 non-null    int64  \n",
            " 8   progrec    500 non-null    int64  \n",
            "dtypes: float64(1), int64(8)\n",
            "memory usage: 35.3 KB\n"
          ],
          "name": "stdout"
        }
      ]
    },
    {
      "cell_type": "code",
      "metadata": {
        "id": "doL63lkvv5ec",
        "outputId": "378314ca-0ed6-4ee1-e72b-8b983121cb52"
      },
      "source": [
        "data.mean()"
      ],
      "execution_count": null,
      "outputs": [
        {
          "output_type": "execute_result",
          "data": {
            "text/plain": [
              "RE            0.2880\n",
              "age          56.7440\n",
              "tumorsize    23.1418\n",
              "hist          0.5900\n",
              "multfoc       0.1960\n",
              "accinsitu     0.2280\n",
              "lymphinv      0.1800\n",
              "estrrec       0.2040\n",
              "progrec       0.2780\n",
              "dtype: float64"
            ]
          },
          "metadata": {
            "tags": []
          },
          "execution_count": 9
        }
      ]
    },
    {
      "cell_type": "code",
      "metadata": {
        "id": "nhsfiVq7v5ed",
        "outputId": "665e08a0-41bc-4443-ec66-94af8aa6ae80"
      },
      "source": [
        "total_rows=len(data.axes[0])\n",
        "total_cols=len(data.axes[1])\n",
        "print(\"Number of Rows: \"+str(total_rows))\n",
        "print(\"Number of Columns: \"+str(total_cols))"
      ],
      "execution_count": null,
      "outputs": [
        {
          "output_type": "stream",
          "text": [
            "Number of Rows: 500\n",
            "Number of Columns: 9\n"
          ],
          "name": "stdout"
        }
      ]
    },
    {
      "cell_type": "code",
      "metadata": {
        "id": "lNglYKPMv5ee"
      },
      "source": [
        "\n",
        "data['tumorsize']= pd.to_numeric(data['tumorsize'])\n"
      ],
      "execution_count": null,
      "outputs": []
    },
    {
      "cell_type": "code",
      "metadata": {
        "id": "-Jnjthi0v5ee"
      },
      "source": [
        "data=data.dropna() #Removing the 9 unknown variables from Data Frame\n",
        " "
      ],
      "execution_count": null,
      "outputs": []
    },
    {
      "cell_type": "code",
      "metadata": {
        "id": "tG_wDny8v5ee",
        "outputId": "dcf13d76-6d58-478e-953f-fb8b5a9a4b6f"
      },
      "source": [
        "data.mean()"
      ],
      "execution_count": null,
      "outputs": [
        {
          "output_type": "execute_result",
          "data": {
            "text/plain": [
              "RE            0.2880\n",
              "age          56.7440\n",
              "tumorsize    23.1418\n",
              "hist          0.5900\n",
              "multfoc       0.1960\n",
              "accinsitu     0.2280\n",
              "lymphinv      0.1800\n",
              "estrrec       0.2040\n",
              "progrec       0.2780\n",
              "dtype: float64"
            ]
          },
          "metadata": {
            "tags": []
          },
          "execution_count": 13
        }
      ]
    },
    {
      "cell_type": "code",
      "metadata": {
        "id": "2k-tMQFIyL9N"
      },
      "source": [],
      "execution_count": null,
      "outputs": []
    },
    {
      "cell_type": "code",
      "metadata": {
        "scrolled": true,
        "id": "0o55ckSIv5ef",
        "outputId": "b799b58a-3d74-45e5-df9f-b1369f7616eb"
      },
      "source": [
        "\n",
        "# Plot the age variable\n",
        "sns.distplot(data['age'])\n",
        "\n",
        "# plt.axvline(np.median(data['age']),color='b', linestyle='--') \n",
        "\n",
        "plt.axvline(np.mean(data['age']),color='b', linestyle='-') \n",
        "\n",
        "#Display the plot\n",
        "\n",
        "plt.title('Age Distrubtion, Mean = 56.74')\n",
        "\n",
        "plt.show()\n",
        "\n",
        "data.age.mean()"
      ],
      "execution_count": null,
      "outputs": [
        {
          "output_type": "display_data",
          "data": {
            "image/png": "[encoded data removed]",
            "text/plain": [
              "<Figure size 432x288 with 1 Axes>"
            ]
          },
          "metadata": {
            "tags": [],
            "needs_background": "light"
          }
        },
        {
          "output_type": "execute_result",
          "data": {
            "text/plain": [
              "56.744"
            ]
          },
          "metadata": {
            "tags": []
          },
          "execution_count": 14
        }
      ]
    },
    {
      "cell_type": "code",
      "metadata": {
        "id": "rc4J-n9vv5eg",
        "outputId": "4b8f2fc2-0fa5-4f61-cf3d-7b0c1c99a685"
      },
      "source": [
        "\n",
        "# Plot first variable\n",
        "\n",
        "sns.distplot(data['tumorsize'])\n",
        " \n",
        "# plt.axvline(np.median(data['tumorsize']),color='b', linestyle='--') \n",
        "\n",
        "plt.axvline(np.mean(data['tumorsize']),color='b', linestyle='-') \n",
        "    \n",
        "    \n",
        "# Display the\n",
        "\n",
        "plt.title('Tumor Size Distrubtion, Mean = 23.14')\n",
        "\n",
        "plt.show()\n",
        "\n",
        "data.tumorsize.mean()\n"
      ],
      "execution_count": null,
      "outputs": [
        {
          "output_type": "display_data",
          "data": {
            "image/png": "[encoded data removed]",
            "text/plain": [
              "<Figure size 432x288 with 1 Axes>"
            ]
          },
          "metadata": {
            "tags": [],
            "needs_background": "light"
          }
        },
        {
          "output_type": "execute_result",
          "data": {
            "text/plain": [
              "23.1418"
            ]
          },
          "metadata": {
            "tags": []
          },
          "execution_count": 15
        }
      ]
    },
    {
      "cell_type": "code",
      "metadata": {
        "id": "of-SdvUav5eg",
        "outputId": "c1cba5d9-d147-43d4-ed3c-8d44156e522e"
      },
      "source": [
        "\n",
        "#Interpretation: People with re-exision \n",
        "\n",
        "g = sns.FacetGrid(data, col='RE')\n",
        "\n",
        "g.map(plt.hist, 'tumorsize', bins=20)\n",
        "\n",
        "\n",
        "# Adjust title and axis labels directly\n",
        "g.set_axis_labels(x_var=\"Tumor Size\", y_var=\"Tumor Size Distribution by RE\")\n",
        "\n",
        "\n",
        "# Clearly ones with RE=1 have smaller tumorsize"
      ],
      "execution_count": null,
      "outputs": [
        {
          "output_type": "execute_result",
          "data": {
            "text/plain": [
              "<seaborn.axisgrid.FacetGrid at 0x7f97ef81fd50>"
            ]
          },
          "metadata": {
            "tags": []
          },
          "execution_count": 16
        },
        {
          "output_type": "display_data",
          "data": {
            "image/png": "[encoded data removed]",
            "text/plain": [
              "<Figure size 432x216 with 2 Axes>"
            ]
          },
          "metadata": {
            "tags": [],
            "needs_background": "light"
          }
        }
      ]
    },
    {
      "cell_type": "code",
      "metadata": {
        "id": "llHs0pOOv5eh",
        "outputId": "3097aceb-97b7-4768-809e-aaa996c1a548"
      },
      "source": [
        "\n",
        "g = sns.FacetGrid(data, col='RE')\n",
        "g.map(plt.hist, 'age', bins=20)\n",
        "\n",
        "\n",
        "# Adjust title and axis labels directly\n",
        "g.set_axis_labels(x_var=\"Age\", y_var=\"Age Distribution by RE\")\n",
        "\n",
        "#RE=1 has younger age distribution\n"
      ],
      "execution_count": null,
      "outputs": [
        {
          "output_type": "execute_result",
          "data": {
            "text/plain": [
              "<seaborn.axisgrid.FacetGrid at 0x7f97efa35850>"
            ]
          },
          "metadata": {
            "tags": []
          },
          "execution_count": 17
        },
        {
          "output_type": "display_data",
          "data": {
            "image/png": "[encoded data removed]",
            "text/plain": [
              "<Figure size 432x216 with 2 Axes>"
            ]
          },
          "metadata": {
            "tags": [],
            "needs_background": "light"
          }
        }
      ]
    },
    {
      "cell_type": "markdown",
      "metadata": {
        "id": "G1hMp6WUv5eh"
      },
      "source": [
        "# Pivoting Features"
      ]
    },
    {
      "cell_type": "code",
      "metadata": {
        "id": "6AxWeo6Lv5ei",
        "outputId": "9124f101-4b23-4e1a-f5a8-31560ad13bf9"
      },
      "source": [
        "data['hist'].value_counts().sort_values()"
      ],
      "execution_count": null,
      "outputs": [
        {
          "output_type": "execute_result",
          "data": {
            "text/plain": [
              "0    205\n",
              "1    295\n",
              "Name: hist, dtype: int64"
            ]
          },
          "metadata": {
            "tags": []
          },
          "execution_count": 18
        }
      ]
    },
    {
      "cell_type": "code",
      "metadata": {
        "id": "4_K5tx4rv5ei",
        "outputId": "998c8354-f537-493b-d3fe-cc0437f29cc0"
      },
      "source": [
        "sns.countplot(x='hist',data=data,palette='hls')\n",
        "plt.show()\n",
        "\n",
        "#"
      ],
      "execution_count": null,
      "outputs": [
        {
          "output_type": "display_data",
          "data": {
            "image/png": "[encoded data removed]",
            "text/plain": [
              "<Figure size 432x288 with 1 Axes>"
            ]
          },
          "metadata": {
            "tags": [],
            "needs_background": "light"
          }
        }
      ]
    },
    {
      "cell_type": "code",
      "metadata": {
        "id": "RbpCgagev5ej",
        "outputId": "53785e66-a9c3-4804-d076-bf68783f79a6"
      },
      "source": [
        "sns.countplot(x='RE',data=data,palette='hls')\n",
        "plt.title('Re-excision Frequency')\n",
        "plt.show()\n"
      ],
      "execution_count": null,
      "outputs": [
        {
          "output_type": "display_data",
          "data": {
            "image/png": "[encoded data removed]",
            "text/plain": [
              "<Figure size 432x288 with 1 Axes>"
            ]
          },
          "metadata": {
            "tags": [],
            "needs_background": "light"
          }
        }
      ]
    },
    {
      "cell_type": "code",
      "metadata": {
        "id": "RuIftBk3v5ej",
        "outputId": "b7a120e3-3aca-4c31-bfc6-dad35091fc86"
      },
      "source": [
        "\n",
        "# Summary Chart Re-excision\n",
        "\n",
        "ax = ((100 *data[\"RE\"].value_counts() / len(data))).plot.bar(rot=0)\n",
        "ax.set( ylabel=\"%\", title=\"Re-excision Percentage\")\n",
        "\n",
        "plt.show()\n",
        "\n",
        "# Summary Chart hist\n",
        "\n",
        "ax = ((100 *data[\"hist\"].value_counts() / len(data))).plot.bar(rot=0)\n",
        "ax.set( ylabel=\"%\", title=\"Histology Percentage\")\n",
        "\n",
        "plt.show()\n",
        "\n",
        "# Summary Chart multfoc\n",
        "\n",
        "ax = ((100 *data[\"multfoc\"].value_counts() / len(data))).plot.bar(rot=0)\n",
        "ax.set( ylabel=\"%\", title=\"Multfoc Percentage\")\n",
        "\n",
        "plt.show()\n",
        "\n",
        "\n",
        "# Summary Chart accinsitu\n",
        "\n",
        "ax = ((100 *data[\"accinsitu\"].value_counts() / len(data))).plot.bar(rot=0)\n",
        "ax.set( ylabel=\"%\", title=\"Accomp. in situ Percentage\")\n",
        "\n",
        "plt.show()\n"
      ],
      "execution_count": null,
      "outputs": [
        {
          "output_type": "display_data",
          "data": {
            "image/png": "[encoded data removed]",
            "text/plain": [
              "<Figure size 432x288 with 1 Axes>"
            ]
          },
          "metadata": {
            "tags": [],
            "needs_background": "light"
          }
        },
        {
          "output_type": "display_data",
          "data": {
            "image/png": "[encoded data removed]",
            "text/plain": [
              "<Figure size 432x288 with 1 Axes>"
            ]
          },
          "metadata": {
            "tags": [],
            "needs_background": "light"
          }
        },
        {
          "output_type": "display_data",
          "data": {
            "image/png": "[encoded data removed]",
            "text/plain": [
              "<Figure size 432x288 with 1 Axes>"
            ]
          },
          "metadata": {
            "tags": [],
            "needs_background": "light"
          }
        },
        {
          "output_type": "display_data",
          "data": {
            "image/png": "[encoded data removed]",
            "text/plain": [
              "<Figure size 432x288 with 1 Axes>"
            ]
          },
          "metadata": {
            "tags": [],
            "needs_background": "light"
          }
        }
      ]
    },
    {
      "cell_type": "code",
      "metadata": {
        "id": "3FD6tbwPv5ek",
        "outputId": "433423ab-4c26-4a42-cb7a-734421c4f324"
      },
      "source": [
        "\n",
        "data.groupby(['RE']).mean() #Mean of variables for RE of 0 or 1\n"
      ],
      "execution_count": null,
      "outputs": [
        {
          "output_type": "execute_result",
          "data": {
            "text/html": [
              "<div>\n",
              "<style scoped>\n",
              "    .dataframe tbody tr th:only-of-type {\n",
              "        vertical-align: middle;\n",
              "    }\n",
              "\n",
              "    .dataframe tbody tr th {\n",
              "        vertical-align: top;\n",
              "    }\n",
              "\n",
              "    .dataframe thead th {\n",
              "        text-align: right;\n",
              "    }\n",
              "</style>\n",
              "<table border=\"1\" class=\"dataframe\">\n",
              "  <thead>\n",
              "    <tr style=\"text-align: right;\">\n",
              "      <th></th>\n",
              "      <th>age</th>\n",
              "      <th>tumorsize</th>\n",
              "      <th>hist</th>\n",
              "      <th>multfoc</th>\n",
              "      <th>accinsitu</th>\n",
              "      <th>lymphinv</th>\n",
              "      <th>estrrec</th>\n",
              "      <th>progrec</th>\n",
              "    </tr>\n",
              "    <tr>\n",
              "      <th>RE</th>\n",
              "      <th></th>\n",
              "      <th></th>\n",
              "      <th></th>\n",
              "      <th></th>\n",
              "      <th></th>\n",
              "      <th></th>\n",
              "      <th></th>\n",
              "      <th></th>\n",
              "    </tr>\n",
              "  </thead>\n",
              "  <tbody>\n",
              "    <tr>\n",
              "      <th>0</th>\n",
              "      <td>57.404494</td>\n",
              "      <td>20.381461</td>\n",
              "      <td>0.657303</td>\n",
              "      <td>0.168539</td>\n",
              "      <td>0.151685</td>\n",
              "      <td>0.160112</td>\n",
              "      <td>0.210674</td>\n",
              "      <td>0.294944</td>\n",
              "    </tr>\n",
              "    <tr>\n",
              "      <th>1</th>\n",
              "      <td>55.111111</td>\n",
              "      <td>29.965972</td>\n",
              "      <td>0.423611</td>\n",
              "      <td>0.263889</td>\n",
              "      <td>0.416667</td>\n",
              "      <td>0.229167</td>\n",
              "      <td>0.187500</td>\n",
              "      <td>0.236111</td>\n",
              "    </tr>\n",
              "  </tbody>\n",
              "</table>\n",
              "</div>"
            ],
            "text/plain": [
              "          age  tumorsize      hist   multfoc  accinsitu  lymphinv   estrrec  \\\n",
              "RE                                                                            \n",
              "0   57.404494  20.381461  0.657303  0.168539   0.151685  0.160112  0.210674   \n",
              "1   55.111111  29.965972  0.423611  0.263889   0.416667  0.229167  0.187500   \n",
              "\n",
              "     progrec  \n",
              "RE            \n",
              "0   0.294944  \n",
              "1   0.236111  "
            ]
          },
          "metadata": {
            "tags": []
          },
          "execution_count": 22
        }
      ]
    },
    {
      "cell_type": "code",
      "metadata": {
        "id": "UYJtWZEkv5ek",
        "outputId": "02c6635b-248f-47f8-8452-0f06bbc7269d"
      },
      "source": [
        "\n",
        "#Interpretation: Age distribution for patinets who had Re-excision is lower than those with \n",
        "\n",
        "%matplotlib inline\n",
        "\n",
        "sns.set(style=\"whitegrid\")\n",
        "plt.figure(figsize=(10,8))\n",
        "plt.title('Boxplot of Age by Re-excision (0 vs. 1)')\n",
        "ax = sns.boxplot( x='RE',y='age', data=data, orient=\"v\")\n",
        "\n",
        "plt.xlabel('Re-excision')\n",
        "plt.ylabel('Age')"
      ],
      "execution_count": null,
      "outputs": [
        {
          "output_type": "execute_result",
          "data": {
            "text/plain": [
              "Text(0, 0.5, 'Age')"
            ]
          },
          "metadata": {
            "tags": []
          },
          "execution_count": 23
        },
        {
          "output_type": "display_data",
          "data": {
            "image/png": "[encoded data removed]",
            "text/plain": [
              "<Figure size 720x576 with 1 Axes>"
            ]
          },
          "metadata": {
            "tags": []
          }
        }
      ]
    },
    {
      "cell_type": "code",
      "metadata": {
        "id": "ma6OziV1v5el",
        "outputId": "9ac2e614-30c8-4eb2-e6a3-7eca7c7a01c5"
      },
      "source": [
        "\n",
        "%matplotlib inline\n",
        "\n",
        "sns.set(style=\"whitegrid\")\n",
        "\n",
        "plt.figure(figsize=(10,8))\n",
        "ax = sns.boxplot(y='tumorsize' , x='RE', data=data, orient=\"v\")\n",
        "\n",
        "plt.title('Boxplot of Tumor Size by Re-excision (0 vs. 1)')\n",
        "\n",
        "plt.xlabel('Re-excision')\n",
        "plt.ylabel('Tumor Size')\n",
        "\n",
        "#The box plot shows you how a feature's values spread out for each class. \n",
        "#It's a compact representation of the distribution, showing the extreme high value, \n",
        "#upper quartile, median, lower quartile and extreme low value.\n",
        "\n"
      ],
      "execution_count": null,
      "outputs": [
        {
          "output_type": "execute_result",
          "data": {
            "text/plain": [
              "Text(0, 0.5, 'Tumor Size')"
            ]
          },
          "metadata": {
            "tags": []
          },
          "execution_count": 24
        },
        {
          "output_type": "display_data",
          "data": {
            "image/png": "[encoded data removed]",
            "text/plain": [
              "<Figure size 720x576 with 1 Axes>"
            ]
          },
          "metadata": {
            "tags": []
          }
        }
      ]
    },
    {
      "cell_type": "markdown",
      "metadata": {
        "id": "w4DM8MHev5el"
      },
      "source": [
        "# Correlating categorical features"
      ]
    },
    {
      "cell_type": "code",
      "metadata": {
        "id": "EHJTkAFiv5em",
        "outputId": "462c2f79-fa87-4512-c95b-e838612cf9a3"
      },
      "source": [
        "\n",
        "grid = sns.FacetGrid(data, row='accinsitu', size=2.2, aspect=1.6)\n",
        "grid.map(sns.pointplot, 'hist', 'RE' , 'lymphinv', palette='deep')\n",
        "grid.add_legend()\n"
      ],
      "execution_count": null,
      "outputs": [
        {
          "output_type": "stream",
          "text": [
            "/Users/zahraSari/opt/anaconda3/lib/python3.7/site-packages/seaborn/axisgrid.py:243: UserWarning: The `size` parameter has been renamed to `height`; please update your code.\n",
            "  warnings.warn(msg, UserWarning)\n",
            "/Users/zahraSari/opt/anaconda3/lib/python3.7/site-packages/seaborn/axisgrid.py:728: UserWarning: Using the pointplot function without specifying `order` is likely to produce an incorrect plot.\n",
            "  warnings.warn(warning)\n",
            "/Users/zahraSari/opt/anaconda3/lib/python3.7/site-packages/seaborn/axisgrid.py:733: UserWarning: Using the pointplot function without specifying `hue_order` is likely to produce an incorrect plot.\n",
            "  warnings.warn(warning)\n"
          ],
          "name": "stderr"
        },
        {
          "output_type": "execute_result",
          "data": {
            "text/plain": [
              "<seaborn.axisgrid.FacetGrid at 0x7f97f0435350>"
            ]
          },
          "metadata": {
            "tags": []
          },
          "execution_count": 25
        },
        {
          "output_type": "display_data",
          "data": {
            "image/png": "[encoded data removed]",
            "text/plain": [
              "<Figure size 299.165x316.8 with 2 Axes>"
            ]
          },
          "metadata": {
            "tags": []
          }
        }
      ]
    },
    {
      "cell_type": "code",
      "metadata": {
        "id": "KbDYZFGuv5em",
        "outputId": "042cc50e-7bc5-4695-9985-3b35164b3f94"
      },
      "source": [
        "print(data.corr)"
      ],
      "execution_count": null,
      "outputs": [
        {
          "output_type": "stream",
          "text": [
            "<bound method DataFrame.corr of      RE  age  tumorsize  hist  multfoc  accinsitu  lymphinv  estrrec  progrec\n",
            "0     0   54       24.4     0        0          0         0        0        0\n",
            "1     1   54       27.3     1        0          1         0        1        0\n",
            "2     1   80       28.7     0        0          1         0        0        0\n",
            "3     0   41       22.8     1        0          0         0        1        0\n",
            "4     0   60       31.4     1        0          0         0        0        0\n",
            "..   ..  ...        ...   ...      ...        ...       ...      ...      ...\n",
            "495   0   64       27.9     1        1          0         0        0        0\n",
            "496   0   60        9.3     1        0          1         0        0        0\n",
            "497   0   53       35.4     1        0          0         1        0        0\n",
            "498   0   50        4.0     1        0          0         0        1        0\n",
            "499   1   60       23.5     1        1          1         0        1        1\n",
            "\n",
            "[500 rows x 9 columns]>\n"
          ],
          "name": "stdout"
        }
      ]
    },
    {
      "cell_type": "markdown",
      "metadata": {
        "id": "cxh-xAJOv5en"
      },
      "source": [
        "# Correlation"
      ]
    },
    {
      "cell_type": "code",
      "metadata": {
        "scrolled": true,
        "id": "H2-1Y6FLv5en",
        "outputId": "77a81c9c-7a72-4586-ea7d-b346824bde00"
      },
      "source": [
        "####Correlation Plot#######\n",
        "\n",
        "corr=data.corr()\n",
        "\n",
        "# Generate a mask for the upper triangle\n",
        "mask = np.zeros_like(corr, dtype=np.bool)\n",
        "mask[np.triu_indices_from(mask)] = True\n",
        "\n",
        "# Set up the matplotlib figure\n",
        "f, ax = plt.subplots(figsize=(15, 13))\n",
        "\n",
        "# Generate a custom diverging colormap\n",
        "cmap = sns.diverging_palette(220, 10, as_cmap=True)\n",
        "\n",
        "# Draw the heatmap with the mask and correct aspect ratio\n",
        "sns.heatmap(corr, mask=mask, cmap=cmap, vmax=.3, center=0,\n",
        "            square=True, linewidths=.5, cbar_kws={\"shrink\": .5})\n",
        "\n",
        "plt.title('Correlation Plot')"
      ],
      "execution_count": null,
      "outputs": [
        {
          "output_type": "execute_result",
          "data": {
            "text/plain": [
              "Text(0.5, 1.0, 'Correlation Plot')"
            ]
          },
          "metadata": {
            "tags": []
          },
          "execution_count": 27
        },
        {
          "output_type": "display_data",
          "data": {
            "image/png": "[encoded data removed]",
            "text/plain": [
              "<Figure size 1080x936 with 2 Axes>"
            ]
          },
          "metadata": {
            "tags": []
          }
        }
      ]
    },
    {
      "cell_type": "markdown",
      "metadata": {
        "id": "hF0Zq1nXv5eo"
      },
      "source": [
        "# Statistical Model - Logistic Model"
      ]
    },
    {
      "cell_type": "code",
      "metadata": {
        "id": "qVkhtm_Sv5eo"
      },
      "source": [
        "\n",
        "#########Statistical Model############\n",
        "\n",
        "#Fit logistic regression model\n",
        "#Logistic regression is an improved version of linear regression.\n"
      ],
      "execution_count": null,
      "outputs": []
    },
    {
      "cell_type": "code",
      "metadata": {
        "id": "hT-isLbEv5ep",
        "outputId": "6fc6b948-aab1-44fa-dcb0-a931b24249da"
      },
      "source": [
        "\n",
        "model = sm.GLM.from_formula(\"RE ~ hist + age + tumorsize + hist + multfoc + accinsitu + lymphinv + estrrec + progrec \", family = sm.families.Binomial(), data=data)\n",
        "result = model.fit()\n",
        "result.summary()\n",
        "\n",
        "#Based on p-value being less than 0.05, \n",
        "#Significant variables are: hist, tumorsize, accinsitu, lymphinv\n",
        "#Age is very close to 0.05 so speculuative whether it is significant, \n",
        "#Similarly for Intercept, p-value is very close to 0.05 but doesn't pass\n",
        "\n",
        "\n",
        "#Coef for hist: (Thinking of linear regression formula Y = AX + B) \n",
        "#where A= -1.2014 , B is 0 since it is non-significant. \n",
        "#If a person’s hist is 1 unit more s/he will have a 0.052 (coefficient with age in the table above) unit more \n",
        "#chance of having heart disease based on the p-value in the table.\n",
        "\n",
        "#Generally, positive coefficients indicate that the event becomes more likely as the predictor increases. \n",
        "#Negative coefficients indicate that the event becomes less likely as the predictor increases.\n",
        "\n"
      ],
      "execution_count": null,
      "outputs": [
        {
          "output_type": "execute_result",
          "data": {
            "text/html": [
              "<table class=\"simpletable\">\n",
              "<caption>Generalized Linear Model Regression Results</caption>\n",
              "<tr>\n",
              "  <th>Dep. Variable:</th>          <td>RE</td>        <th>  No. Observations:  </th>  <td>   500</td> \n",
              "</tr>\n",
              "<tr>\n",
              "  <th>Model:</th>                  <td>GLM</td>       <th>  Df Residuals:      </th>  <td>   491</td> \n",
              "</tr>\n",
              "<tr>\n",
              "  <th>Model Family:</th>        <td>Binomial</td>     <th>  Df Model:          </th>  <td>     8</td> \n",
              "</tr>\n",
              "<tr>\n",
              "  <th>Link Function:</th>         <td>logit</td>      <th>  Scale:             </th> <td>  1.0000</td>\n",
              "</tr>\n",
              "<tr>\n",
              "  <th>Method:</th>                <td>IRLS</td>       <th>  Log-Likelihood:    </th> <td> -236.42</td>\n",
              "</tr>\n",
              "<tr>\n",
              "  <th>Date:</th>            <td>Wed, 13 Jan 2021</td> <th>  Deviance:          </th> <td>  472.85</td>\n",
              "</tr>\n",
              "<tr>\n",
              "  <th>Time:</th>                <td>18:28:15</td>     <th>  Pearson chi2:      </th>  <td>  497.</td> \n",
              "</tr>\n",
              "<tr>\n",
              "  <th>No. Iterations:</th>          <td>5</td>        <th>                     </th>     <td> </td>   \n",
              "</tr>\n",
              "<tr>\n",
              "  <th>Covariance Type:</th>     <td>nonrobust</td>    <th>                     </th>     <td> </td>   \n",
              "</tr>\n",
              "</table>\n",
              "<table class=\"simpletable\">\n",
              "<tr>\n",
              "      <td></td>         <th>coef</th>     <th>std err</th>      <th>z</th>      <th>P>|z|</th>  <th>[0.025</th>    <th>0.975]</th>  \n",
              "</tr>\n",
              "<tr>\n",
              "  <th>Intercept</th> <td>   -1.2132</td> <td>    0.652</td> <td>   -1.861</td> <td> 0.063</td> <td>   -2.491</td> <td>    0.065</td>\n",
              "</tr>\n",
              "<tr>\n",
              "  <th>hist</th>      <td>   -1.2014</td> <td>    0.234</td> <td>   -5.124</td> <td> 0.000</td> <td>   -1.661</td> <td>   -0.742</td>\n",
              "</tr>\n",
              "<tr>\n",
              "  <th>age</th>       <td>   -0.0198</td> <td>    0.010</td> <td>   -1.901</td> <td> 0.057</td> <td>   -0.040</td> <td>    0.001</td>\n",
              "</tr>\n",
              "<tr>\n",
              "  <th>tumorsize</th> <td>    0.0582</td> <td>    0.009</td> <td>    6.609</td> <td> 0.000</td> <td>    0.041</td> <td>    0.075</td>\n",
              "</tr>\n",
              "<tr>\n",
              "  <th>multfoc</th>   <td>    0.4622</td> <td>    0.276</td> <td>    1.675</td> <td> 0.094</td> <td>   -0.079</td> <td>    1.003</td>\n",
              "</tr>\n",
              "<tr>\n",
              "  <th>accinsitu</th> <td>    1.5921</td> <td>    0.257</td> <td>    6.186</td> <td> 0.000</td> <td>    1.088</td> <td>    2.097</td>\n",
              "</tr>\n",
              "<tr>\n",
              "  <th>lymphinv</th>  <td>    0.6619</td> <td>    0.285</td> <td>    2.320</td> <td> 0.020</td> <td>    0.103</td> <td>    1.221</td>\n",
              "</tr>\n",
              "<tr>\n",
              "  <th>estrrec</th>   <td>   -0.1542</td> <td>    0.290</td> <td>   -0.532</td> <td> 0.595</td> <td>   -0.723</td> <td>    0.414</td>\n",
              "</tr>\n",
              "<tr>\n",
              "  <th>progrec</th>   <td>   -0.0951</td> <td>    0.260</td> <td>   -0.366</td> <td> 0.715</td> <td>   -0.605</td> <td>    0.415</td>\n",
              "</tr>\n",
              "</table>"
            ],
            "text/plain": [
              "<class 'statsmodels.iolib.summary.Summary'>\n",
              "\"\"\"\n",
              "                 Generalized Linear Model Regression Results                  \n",
              "==============================================================================\n",
              "Dep. Variable:                     RE   No. Observations:                  500\n",
              "Model:                            GLM   Df Residuals:                      491\n",
              "Model Family:                Binomial   Df Model:                            8\n",
              "Link Function:                  logit   Scale:                          1.0000\n",
              "Method:                          IRLS   Log-Likelihood:                -236.42\n",
              "Date:                Wed, 13 Jan 2021   Deviance:                       472.85\n",
              "Time:                        18:28:15   Pearson chi2:                     497.\n",
              "No. Iterations:                     5                                         \n",
              "Covariance Type:            nonrobust                                         \n",
              "==============================================================================\n",
              "                 coef    std err          z      P>|z|      [0.025      0.975]\n",
              "------------------------------------------------------------------------------\n",
              "Intercept     -1.2132      0.652     -1.861      0.063      -2.491       0.065\n",
              "hist          -1.2014      0.234     -5.124      0.000      -1.661      -0.742\n",
              "age           -0.0198      0.010     -1.901      0.057      -0.040       0.001\n",
              "tumorsize      0.0582      0.009      6.609      0.000       0.041       0.075\n",
              "multfoc        0.4622      0.276      1.675      0.094      -0.079       1.003\n",
              "accinsitu      1.5921      0.257      6.186      0.000       1.088       2.097\n",
              "lymphinv       0.6619      0.285      2.320      0.020       0.103       1.221\n",
              "estrrec       -0.1542      0.290     -0.532      0.595      -0.723       0.414\n",
              "progrec       -0.0951      0.260     -0.366      0.715      -0.605       0.415\n",
              "==============================================================================\n",
              "\"\"\""
            ]
          },
          "metadata": {
            "tags": []
          },
          "execution_count": 29
        }
      ]
    },
    {
      "cell_type": "code",
      "metadata": {
        "id": "RPoFTnEJv5ev",
        "outputId": "215b0fec-7ed5-4598-a648-adaf6c7466d6"
      },
      "source": [
        "#Removing non-significant variables and re-fitting the model\n",
        "#Age seems to be significant now\n",
        "\n",
        "model = sm.GLM.from_formula(\"RE ~ hist + age + tumorsize + accinsitu + lymphinv  -1 \", family = sm.families.Binomial(), data=data)\n",
        "result = model.fit()\n",
        "result.summary()\n",
        "\n",
        "#coeffiecnt -1.2849 for hist shows increase of odds\n",
        "#for ones with hist=1 than ones with hist=0\n",
        "\n",
        "#According to this fitted model, older people are more\n",
        "#likely to have Reexicision than younger people. The \n",
        "#log odds for heart disease increases by 0.0545 units for each year.\n",
        "#If a person is 10 years older his or her chance of having RE\n",
        "#increases by 0.0545 * 10 = 0.545 units.\n"
      ],
      "execution_count": null,
      "outputs": [
        {
          "output_type": "execute_result",
          "data": {
            "text/html": [
              "<table class=\"simpletable\">\n",
              "<caption>Generalized Linear Model Regression Results</caption>\n",
              "<tr>\n",
              "  <th>Dep. Variable:</th>          <td>RE</td>        <th>  No. Observations:  </th>  <td>   500</td> \n",
              "</tr>\n",
              "<tr>\n",
              "  <th>Model:</th>                  <td>GLM</td>       <th>  Df Residuals:      </th>  <td>   495</td> \n",
              "</tr>\n",
              "<tr>\n",
              "  <th>Model Family:</th>        <td>Binomial</td>     <th>  Df Model:          </th>  <td>     4</td> \n",
              "</tr>\n",
              "<tr>\n",
              "  <th>Link Function:</th>         <td>logit</td>      <th>  Scale:             </th> <td>  1.0000</td>\n",
              "</tr>\n",
              "<tr>\n",
              "  <th>Method:</th>                <td>IRLS</td>       <th>  Log-Likelihood:    </th> <td> -239.59</td>\n",
              "</tr>\n",
              "<tr>\n",
              "  <th>Date:</th>            <td>Wed, 13 Jan 2021</td> <th>  Deviance:          </th> <td>  479.18</td>\n",
              "</tr>\n",
              "<tr>\n",
              "  <th>Time:</th>                <td>18:28:15</td>     <th>  Pearson chi2:      </th>  <td>  506.</td> \n",
              "</tr>\n",
              "<tr>\n",
              "  <th>No. Iterations:</th>          <td>5</td>        <th>                     </th>     <td> </td>   \n",
              "</tr>\n",
              "<tr>\n",
              "  <th>Covariance Type:</th>     <td>nonrobust</td>    <th>                     </th>     <td> </td>   \n",
              "</tr>\n",
              "</table>\n",
              "<table class=\"simpletable\">\n",
              "<tr>\n",
              "      <td></td>         <th>coef</th>     <th>std err</th>      <th>z</th>      <th>P>|z|</th>  <th>[0.025</th>    <th>0.975]</th>  \n",
              "</tr>\n",
              "<tr>\n",
              "  <th>hist</th>      <td>   -1.2849</td> <td>    0.228</td> <td>   -5.625</td> <td> 0.000</td> <td>   -1.733</td> <td>   -0.837</td>\n",
              "</tr>\n",
              "<tr>\n",
              "  <th>age</th>       <td>   -0.0374</td> <td>    0.005</td> <td>   -7.851</td> <td> 0.000</td> <td>   -0.047</td> <td>   -0.028</td>\n",
              "</tr>\n",
              "<tr>\n",
              "  <th>tumorsize</th> <td>    0.0545</td> <td>    0.008</td> <td>    6.485</td> <td> 0.000</td> <td>    0.038</td> <td>    0.071</td>\n",
              "</tr>\n",
              "<tr>\n",
              "  <th>accinsitu</th> <td>    1.5787</td> <td>    0.255</td> <td>    6.184</td> <td> 0.000</td> <td>    1.078</td> <td>    2.079</td>\n",
              "</tr>\n",
              "<tr>\n",
              "  <th>lymphinv</th>  <td>    0.5854</td> <td>    0.282</td> <td>    2.075</td> <td> 0.038</td> <td>    0.032</td> <td>    1.138</td>\n",
              "</tr>\n",
              "</table>"
            ],
            "text/plain": [
              "<class 'statsmodels.iolib.summary.Summary'>\n",
              "\"\"\"\n",
              "                 Generalized Linear Model Regression Results                  \n",
              "==============================================================================\n",
              "Dep. Variable:                     RE   No. Observations:                  500\n",
              "Model:                            GLM   Df Residuals:                      495\n",
              "Model Family:                Binomial   Df Model:                            4\n",
              "Link Function:                  logit   Scale:                          1.0000\n",
              "Method:                          IRLS   Log-Likelihood:                -239.59\n",
              "Date:                Wed, 13 Jan 2021   Deviance:                       479.18\n",
              "Time:                        18:28:15   Pearson chi2:                     506.\n",
              "No. Iterations:                     5                                         \n",
              "Covariance Type:            nonrobust                                         \n",
              "==============================================================================\n",
              "                 coef    std err          z      P>|z|      [0.025      0.975]\n",
              "------------------------------------------------------------------------------\n",
              "hist          -1.2849      0.228     -5.625      0.000      -1.733      -0.837\n",
              "age           -0.0374      0.005     -7.851      0.000      -0.047      -0.028\n",
              "tumorsize      0.0545      0.008      6.485      0.000       0.038       0.071\n",
              "accinsitu      1.5787      0.255      6.184      0.000       1.078       2.079\n",
              "lymphinv       0.5854      0.282      2.075      0.038       0.032       1.138\n",
              "==============================================================================\n",
              "\"\"\""
            ]
          },
          "metadata": {
            "tags": []
          },
          "execution_count": 30
        }
      ]
    },
    {
      "cell_type": "code",
      "metadata": {
        "id": "ebpomG3Gv5ew",
        "outputId": "83ae44ab-0160-4170-81c2-49052f9f4102"
      },
      "source": [
        "\n",
        "data[['RE','hist', 'age' , 'tumorsize' , 'accinsitu' , 'lymphinv']].corr()\n"
      ],
      "execution_count": null,
      "outputs": [
        {
          "output_type": "execute_result",
          "data": {
            "text/html": [
              "<div>\n",
              "<style scoped>\n",
              "    .dataframe tbody tr th:only-of-type {\n",
              "        vertical-align: middle;\n",
              "    }\n",
              "\n",
              "    .dataframe tbody tr th {\n",
              "        vertical-align: top;\n",
              "    }\n",
              "\n",
              "    .dataframe thead th {\n",
              "        text-align: right;\n",
              "    }\n",
              "</style>\n",
              "<table border=\"1\" class=\"dataframe\">\n",
              "  <thead>\n",
              "    <tr style=\"text-align: right;\">\n",
              "      <th></th>\n",
              "      <th>RE</th>\n",
              "      <th>hist</th>\n",
              "      <th>age</th>\n",
              "      <th>tumorsize</th>\n",
              "      <th>accinsitu</th>\n",
              "      <th>lymphinv</th>\n",
              "    </tr>\n",
              "  </thead>\n",
              "  <tbody>\n",
              "    <tr>\n",
              "      <th>RE</th>\n",
              "      <td>1.000000</td>\n",
              "      <td>-0.215161</td>\n",
              "      <td>-0.092567</td>\n",
              "      <td>0.312971</td>\n",
              "      <td>0.286006</td>\n",
              "      <td>0.081392</td>\n",
              "    </tr>\n",
              "    <tr>\n",
              "      <th>hist</th>\n",
              "      <td>-0.215161</td>\n",
              "      <td>1.000000</td>\n",
              "      <td>-0.004161</td>\n",
              "      <td>-0.008132</td>\n",
              "      <td>0.007172</td>\n",
              "      <td>-0.032812</td>\n",
              "    </tr>\n",
              "    <tr>\n",
              "      <th>age</th>\n",
              "      <td>-0.092567</td>\n",
              "      <td>-0.004161</td>\n",
              "      <td>1.000000</td>\n",
              "      <td>-0.036707</td>\n",
              "      <td>-0.039014</td>\n",
              "      <td>-0.015758</td>\n",
              "    </tr>\n",
              "    <tr>\n",
              "      <th>tumorsize</th>\n",
              "      <td>0.312971</td>\n",
              "      <td>-0.008132</td>\n",
              "      <td>-0.036707</td>\n",
              "      <td>1.000000</td>\n",
              "      <td>0.056422</td>\n",
              "      <td>0.006659</td>\n",
              "    </tr>\n",
              "    <tr>\n",
              "      <th>accinsitu</th>\n",
              "      <td>0.286006</td>\n",
              "      <td>0.007172</td>\n",
              "      <td>-0.039014</td>\n",
              "      <td>0.056422</td>\n",
              "      <td>1.000000</td>\n",
              "      <td>-0.068494</td>\n",
              "    </tr>\n",
              "    <tr>\n",
              "      <th>lymphinv</th>\n",
              "      <td>0.081392</td>\n",
              "      <td>-0.032812</td>\n",
              "      <td>-0.015758</td>\n",
              "      <td>0.006659</td>\n",
              "      <td>-0.068494</td>\n",
              "      <td>1.000000</td>\n",
              "    </tr>\n",
              "  </tbody>\n",
              "</table>\n",
              "</div>"
            ],
            "text/plain": [
              "                 RE      hist       age  tumorsize  accinsitu  lymphinv\n",
              "RE         1.000000 -0.215161 -0.092567   0.312971   0.286006  0.081392\n",
              "hist      -0.215161  1.000000 -0.004161  -0.008132   0.007172 -0.032812\n",
              "age       -0.092567 -0.004161  1.000000  -0.036707  -0.039014 -0.015758\n",
              "tumorsize  0.312971 -0.008132 -0.036707   1.000000   0.056422  0.006659\n",
              "accinsitu  0.286006  0.007172 -0.039014   0.056422   1.000000 -0.068494\n",
              "lymphinv   0.081392 -0.032812 -0.015758   0.006659  -0.068494  1.000000"
            ]
          },
          "metadata": {
            "tags": []
          },
          "execution_count": 31
        }
      ]
    },
    {
      "cell_type": "markdown",
      "metadata": {
        "id": "FIb0PLvEv5ex"
      },
      "source": [
        "# Visualization of the Fitted Model"
      ]
    },
    {
      "cell_type": "code",
      "metadata": {
        "id": "Ek6MoVAyv5ex"
      },
      "source": [
        "#https://towardsdatascience.com/logistic-regression-model-fitting-and-finding-the-correlation-p-value-z-score-confidence-8330fb86db19\n",
        "#With help from this site"
      ],
      "execution_count": null,
      "outputs": []
    },
    {
      "cell_type": "code",
      "metadata": {
        "id": "DFUKlcHNv5ex",
        "colab": {
          "base_uri": "https://localhost:8080/"
        },
        "outputId": "451b9450-a8a9-4fcb-cafe-ca95d500652c"
      },
      "source": [
        "from statsmodels.sandbox.predict_functional import predict_functional"
      ],
      "execution_count": null,
      "outputs": [
        {
          "output_type": "stream",
          "text": [
            "/usr/local/lib/python3.7/dist-packages/statsmodels/tools/_testing.py:19: FutureWarning: pandas.util.testing is deprecated. Use the functions in the public API at pandas.testing instead.\n",
            "  import pandas.util.testing as tm\n"
          ],
          "name": "stderr"
        }
      ]
    },
    {
      "cell_type": "code",
      "metadata": {
        "id": "SCr-9fHdv5ey"
      },
      "source": [
        "values = {\"hist\": 1, \"tumorsize\": 23, \"accinsitu\":0 , \"lymphinv\" :0 }\n"
      ],
      "execution_count": null,
      "outputs": []
    },
    {
      "cell_type": "code",
      "metadata": {
        "id": "Eu7FldH1v5ey",
        "outputId": "e28ba6f9-8081-42d6-eb9b-33955841a495"
      },
      "source": [
        "pr, cb, fv = predict_functional(result, \"age\", values=values, ci_method=\"simultaneous\")\n"
      ],
      "execution_count": null,
      "outputs": [
        {
          "output_type": "stream",
          "text": [
            "/Users/zahraSari/opt/anaconda3/lib/python3.7/site-packages/statsmodels/sandbox/predict_functional.py:171: ValueWarning: 'progrec', 'estrrec', 'multfoc' in data frame but not in summaries or values.\n",
            "  ValueWarning)\n"
          ],
          "name": "stderr"
        }
      ]
    },
    {
      "cell_type": "code",
      "metadata": {
        "id": "vQaxcfDov5ez",
        "outputId": "5a823c44-f344-44fe-ff10-1698e5a3c041"
      },
      "source": [
        "ax = sns.lineplot(fv, pr, lw=4)\n",
        "ax.fill_between(fv, cb[:, 0], cb[:, 1], color='grey', alpha=0.4)\n",
        "ax.set_xlabel(\"Age\")\n",
        "ax.set_ylabel(\"Re-excision\")\n",
        "\n",
        "ax.set_title('Fitted Model: Log-odds of Re-excision by Age for patients with hist=1, tumorsize=23,accinsitu=0 ,lymphinv=0 ')\n",
        "\n",
        "\n",
        "\n",
        "\n",
        "#This plot of fitted log-odds  visualizes the effect of age on reexcision for \n",
        "#hist=0, tumorsize=23, accinsitu=0 and lumphinv=0 by the glm fitted model\n",
        "#Slight negative correlation of age and RE are visible in this plot\n",
        "#For the specific described variables"
      ],
      "execution_count": null,
      "outputs": [
        {
          "output_type": "execute_result",
          "data": {
            "text/plain": [
              "Text(0.5, 1.0, 'Fitted Model: Log-odds of Re-excision by Age for patients with hist=1, tumorsize=23,accinsitu=0 ,lymphinv=0 ')"
            ]
          },
          "metadata": {
            "tags": []
          },
          "execution_count": 36
        },
        {
          "output_type": "display_data",
          "data": {
            "image/png": "[encoded data removed]",
            "text/plain": [
              "<Figure size 432x288 with 1 Axes>"
            ]
          },
          "metadata": {
            "tags": []
          }
        }
      ]
    },
    {
      "cell_type": "code",
      "metadata": {
        "id": "GUpJyixzv5ez"
      },
      "source": [],
      "execution_count": null,
      "outputs": []
    },
    {
      "cell_type": "code",
      "metadata": {
        "id": "IzAoZd88v5ez",
        "outputId": "5ff18b97-ddab-4c03-d509-e0ce5d1709bd"
      },
      "source": [
        "from statsmodels.sandbox.predict_functional import predict_functional\n",
        "values = {\"hist\": 1, \"age\": 57, \"accinsitu\":0 , \"lymphinv\" :0 }\n",
        "pr, cb, fv = predict_functional(result, \"tumorsize\", values=values, ci_method=\"simultaneous\")\n",
        "\n",
        "ax = sns.lineplot(fv, pr, lw=4)\n",
        "ax.fill_between(fv, cb[:, 0], cb[:, 1], color='grey', alpha=0.4)\n",
        "ax.set_xlabel(\"Tumor Size\")\n",
        "ax.set_ylabel(\"Re-excision\")\n",
        "\n",
        "ax.set_title('Fitted Model: Log-odds of Re-excision by Tumorsize for patients with hist=1,age=57,accinsitu=0,lymphinv=0')\n",
        "\n",
        "#This plot of fitted log-odds  visualizes the effect of tumorsize on reexcision for \n",
        "#hist=0, age=45, accinsitu=0 and lumphinv=0 by the glm fitted model\n",
        "#Clear Positive correlation of tumorsize and RE are visible in this plot\n"
      ],
      "execution_count": null,
      "outputs": [
        {
          "output_type": "stream",
          "text": [
            "/Users/zahraSari/opt/anaconda3/lib/python3.7/site-packages/statsmodels/sandbox/predict_functional.py:171: ValueWarning: 'progrec', 'estrrec', 'multfoc' in data frame but not in summaries or values.\n",
            "  ValueWarning)\n"
          ],
          "name": "stderr"
        },
        {
          "output_type": "execute_result",
          "data": {
            "text/plain": [
              "Text(0.5, 1.0, 'Fitted Model: Log-odds of Re-excision by Tumorsize for patients with hist=1,age=57,accinsitu=0,lymphinv=0')"
            ]
          },
          "metadata": {
            "tags": []
          },
          "execution_count": 37
        },
        {
          "output_type": "display_data",
          "data": {
            "image/png": "[encoded data removed]",
            "text/plain": [
              "<Figure size 432x288 with 1 Axes>"
            ]
          },
          "metadata": {
            "tags": []
          }
        }
      ]
    },
    {
      "cell_type": "code",
      "metadata": {
        "id": "izhSQNBbv5e0"
      },
      "source": [],
      "execution_count": null,
      "outputs": []
    },
    {
      "cell_type": "code",
      "metadata": {
        "scrolled": true,
        "id": "9rCHlRA5v5e0",
        "outputId": "e9e17cb7-3781-47e5-de4a-1fe93169269c"
      },
      "source": [
        "\n",
        "import seaborn as sns\n",
        " \n",
        "#Plot the relationship between two variables in a DataFrame and \n",
        "#add overlay with the logistic fit\n",
        "\n",
        "\n",
        "sns.regplot(x = 'tumorsize', y = 'RE',\n",
        "            y_jitter = 0.03,\n",
        "            data = data,\n",
        "            logistic = True,\n",
        "            ci = 95)\n",
        "\n",
        "plt.title('Fitted Plot for Re-excision by Tumorsize')\n",
        "\n",
        "\n",
        "plt.xlabel('Tumor Size')\n",
        "\n",
        "plt.ylabel('Re-excision')\n",
        "\n",
        "\n",
        "\n",
        "# Display the plot\n",
        "\n",
        "plt.show()\n",
        "\n",
        "#Interpretation: the lower tumor sizes are associated with value 0 for Reexcision, \n",
        "#higher values of tumorsize.\n",
        "#Tumor sizes of over 55 are associated with value of 1 for Reexicision.\n",
        "#The confidence interval gets wider as the value of the predictor increases. The \n",
        "#wide interval is partly due to the small amount of data for larger tumor size."
      ],
      "execution_count": null,
      "outputs": [
        {
          "output_type": "display_data",
          "data": {
            "image/png": "[encoded data removed]",
            "text/plain": [
              "<Figure size 432x288 with 1 Axes>"
            ]
          },
          "metadata": {
            "tags": []
          }
        }
      ]
    },
    {
      "cell_type": "code",
      "metadata": {
        "id": "6TCJpJRZv5e1",
        "outputId": "d13ba430-212b-4bb3-974f-6a32067aaebf"
      },
      "source": [
        "#Plot the relationship between two variables in a DataFrame and add overlay with the logistic fit\n",
        "\n",
        "sns.regplot(x = 'age', y = 'RE',\n",
        "            y_jitter = 0.03,\n",
        "            data = data,\n",
        "            logistic = True,\n",
        "            ci = 95)\n",
        " \n",
        "\n",
        "plt.title('Fitted Plot for Re-excision by Age')\n",
        "    \n",
        "plt.xlabel('Age')\n",
        "\n",
        "plt.ylabel('Re-excision')\n",
        "\n",
        "# Display the plot\n",
        "plt.show()\n",
        "\n",
        "#Interpretation: the lower values age is associated with value 0 for Reexcision, higher values of tumorsize\n",
        "#eg. tumor size of over 55 are associated with value of 1 for Reexicision.\n",
        "#The confidence interval gets wider as the value of the predictor increases. The \n",
        "#wide interval is partly due to the small amount of data for larger lower and higher ages.\n",
        "\n"
      ],
      "execution_count": null,
      "outputs": [
        {
          "output_type": "display_data",
          "data": {
            "image/png": "[encoded data removed]",
            "text/plain": [
              "<Figure size 432x288 with 1 Axes>"
            ]
          },
          "metadata": {
            "tags": []
          }
        }
      ]
    },
    {
      "cell_type": "code",
      "metadata": {
        "id": "nPsz0OM_v5e1",
        "outputId": "1672c8cb-2cce-4bdc-f5e2-e0da57b5813f"
      },
      "source": [
        "# Examine the first 5 computed predictions\n",
        "print(data[['RE',  'hist', 'multfoc', 'accinsitu', 'lymphinv', 'estrrec', 'progrec']].head())\n",
        "\n"
      ],
      "execution_count": null,
      "outputs": [
        {
          "output_type": "stream",
          "text": [
            "   RE  hist  multfoc  accinsitu  lymphinv  estrrec  progrec\n",
            "0   0     0        0          0         0        0        0\n",
            "1   1     1        0          1         0        1        0\n",
            "2   1     0        0          1         0        0        0\n",
            "3   0     1        0          0         0        1        0\n",
            "4   0     1        0          0         0        0        0\n"
          ],
          "name": "stdout"
        }
      ]
    },
    {
      "cell_type": "code",
      "metadata": {
        "id": "dE7sppPyv5e2",
        "outputId": "6fd2c966-6a6c-4b41-9d09-e2e9503eca96"
      },
      "source": [
        " \n",
        "# Define the cutoff\n",
        "cutoff = 0.5\n",
        " \n",
        "# Compute class predictions: y_prediction\n",
        "y_prediction = np.where(prediction > cutoff, 1, 0)\n"
      ],
      "execution_count": null,
      "outputs": [
        {
          "output_type": "error",
          "ename": "NameError",
          "evalue": "name 'prediction' is not defined",
          "traceback": [
            "\u001b[0;31m---------------------------------------------------------------------------\u001b[0m",
            "\u001b[0;31mNameError\u001b[0m                                 Traceback (most recent call last)",
            "\u001b[0;32m<ipython-input-41-2d959bb961dd>\u001b[0m in \u001b[0;36m<module>\u001b[0;34m\u001b[0m\n\u001b[1;32m      3\u001b[0m \u001b[0;34m\u001b[0m\u001b[0m\n\u001b[1;32m      4\u001b[0m \u001b[0;31m# Compute class predictions: y_prediction\u001b[0m\u001b[0;34m\u001b[0m\u001b[0;34m\u001b[0m\u001b[0;34m\u001b[0m\u001b[0m\n\u001b[0;32m----> 5\u001b[0;31m \u001b[0my_prediction\u001b[0m \u001b[0;34m=\u001b[0m \u001b[0mnp\u001b[0m\u001b[0;34m.\u001b[0m\u001b[0mwhere\u001b[0m\u001b[0;34m(\u001b[0m\u001b[0mprediction\u001b[0m \u001b[0;34m>\u001b[0m \u001b[0mcutoff\u001b[0m\u001b[0;34m,\u001b[0m \u001b[0;36m1\u001b[0m\u001b[0;34m,\u001b[0m \u001b[0;36m0\u001b[0m\u001b[0;34m)\u001b[0m\u001b[0;34m\u001b[0m\u001b[0;34m\u001b[0m\u001b[0m\n\u001b[0m",
            "\u001b[0;31mNameError\u001b[0m: name 'prediction' is not defined"
          ]
        }
      ]
    },
    {
      "cell_type": "markdown",
      "metadata": {
        "id": "vPrU4OnQv5e2"
      },
      "source": [
        "# Machine Learning"
      ]
    },
    {
      "cell_type": "code",
      "metadata": {
        "id": "u1A5cysNv5e3"
      },
      "source": [
        "#Random Forest"
      ],
      "execution_count": null,
      "outputs": []
    },
    {
      "cell_type": "code",
      "metadata": {
        "id": "zt9Uo383v5e3"
      },
      "source": [
        "\n",
        "from sklearn.model_selection import train_test_split\n"
      ],
      "execution_count": null,
      "outputs": []
    },
    {
      "cell_type": "code",
      "metadata": {
        "id": "x5IK9hKkv5e3"
      },
      "source": [
        "\n",
        "y=data['RE']\n"
      ],
      "execution_count": null,
      "outputs": []
    },
    {
      "cell_type": "code",
      "metadata": {
        "id": "AtPHb4OKv5e4"
      },
      "source": [
        "\n",
        "train_df = data.drop(['RE'], axis=1)\n"
      ],
      "execution_count": null,
      "outputs": []
    },
    {
      "cell_type": "code",
      "metadata": {
        "id": "nrWgZwG2v5e5"
      },
      "source": [
        "import numpy as np\n",
        "\n",
        "from sklearn.model_selection import train_test_split\n",
        "X, y = np.arange(10).reshape((5, 2)), range(5)\n",
        "X\n",
        "list(y)\n"
      ],
      "execution_count": null,
      "outputs": []
    },
    {
      "cell_type": "code",
      "metadata": {
        "id": "vd7cDldjv5e5"
      },
      "source": [
        "X_train, X_test, y_train, y_test = train_test_split(X, y, test_size=0.33, random_state=42)\n",
        "X_train"
      ],
      "execution_count": null,
      "outputs": []
    },
    {
      "cell_type": "code",
      "metadata": {
        "id": "Ig325qALv5e5"
      },
      "source": [
        "y_train"
      ],
      "execution_count": null,
      "outputs": []
    },
    {
      "cell_type": "code",
      "metadata": {
        "id": "mgUcKfCuv5e5"
      },
      "source": [
        "X_test"
      ],
      "execution_count": null,
      "outputs": []
    },
    {
      "cell_type": "code",
      "metadata": {
        "id": "8xzZiUtqv5e6"
      },
      "source": [
        "y_test\n"
      ],
      "execution_count": null,
      "outputs": []
    },
    {
      "cell_type": "code",
      "metadata": {
        "id": "8pYpSawMv5e6"
      },
      "source": [
        "\n",
        "#print(\"Before\", train_df.shape, test_df.shape, combine[0].shape, combine[1].shape)\n",
        "\n",
        "#train_df = train_df.drop(['Ticket', 'Cabin'], axis=1)\n",
        "#test_df = test_df.drop(['Ticket', 'Cabin'], axis=1)\n",
        "#combine = [train_df, test_df]\n",
        "\n",
        "#\"After\", train_df.shape, test_df.shape, combine[0].shape, combine[1].shape\n"
      ],
      "execution_count": null,
      "outputs": []
    },
    {
      "cell_type": "code",
      "metadata": {
        "id": "oyNB3mPyv5e7"
      },
      "source": [
        "\n",
        "train_df = data.drop(['RE'], axis=1)\n"
      ],
      "execution_count": null,
      "outputs": []
    },
    {
      "cell_type": "code",
      "metadata": {
        "id": "BehxDcnKv5e7"
      },
      "source": [
        "df = pd.DataFrame(np.random.randn(100, 2))\n",
        "\n",
        "msk = np.random.rand(len(df)) < 0.8\n",
        "\n",
        "train = df[msk]\n",
        "\n",
        "test = df[~msk]\n",
        "\n",
        "len(test)\n",
        "len(train)\n"
      ],
      "execution_count": null,
      "outputs": []
    },
    {
      "cell_type": "code",
      "metadata": {
        "id": "14Mlu04_v5e8"
      },
      "source": [
        "#####################DATACAMP#################\n",
        "\n",
        "# Import train_test_split function\n",
        "#from sklearn.model_selection import train_test_split\n",
        "\n",
        "#X=data[['sepal length', 'sepal width', 'petal length', 'petal width']]  # Features\n",
        "#y=data['species']  # Labels\n",
        "\n",
        "# Split dataset into training set and test set\n",
        "#X_train, X_test, y_train, y_test = train_test_split(X, y, test_size=0.3) # 70% training and 30% test\n",
        "\n",
        "\n",
        "\n",
        "\n",
        "# Import train_test_split function\n",
        "from sklearn.model_selection import train_test_split\n",
        "\n",
        "X=data[['age' , 'tumorsize' , 'hist',  'multfoc' , 'accinsitu',  'lymphinv',  'estrrec' , 'progrec']]  # Features\n",
        "y=data['RE']  # Labels\n",
        "\n",
        "# Split dataset into training set and test set\n",
        "X_train, X_test, y_train, y_test = train_test_split(X, y, test_size=0.3) # 70% training and 30% test\n",
        "\n",
        "\n"
      ],
      "execution_count": null,
      "outputs": []
    },
    {
      "cell_type": "code",
      "metadata": {
        "id": "R-9Kupzhv5e8"
      },
      "source": [],
      "execution_count": null,
      "outputs": []
    },
    {
      "cell_type": "code",
      "metadata": {
        "id": "Nz08Ci0Qv5e9"
      },
      "source": [
        "\n",
        "\n",
        "#Import Random Forest Model\n",
        "from sklearn.ensemble import RandomForestClassifier\n",
        "\n",
        "#Create a Gaussian Classifier\n",
        "clf=RandomForestClassifier(n_estimators=100)\n",
        "\n",
        "#Train the model using the training sets y_pred=clf.predict(X_test)\n",
        "clf.fit(X_train,y_train)\n",
        "\n",
        "y_pred=clf.predict(X_test)\n",
        "\n"
      ],
      "execution_count": null,
      "outputs": []
    },
    {
      "cell_type": "code",
      "metadata": {
        "id": "2bo9Q_3Vv5e9"
      },
      "source": [
        "\n",
        "#Import scikit-learn metrics module for accuracy calculation\n",
        "from sklearn import metrics\n",
        "# Model Accuracy, how often is the classifier correct?\n",
        "print(\"Accuracy:\",metrics.accuracy_score(y_test, y_pred))\n",
        "\n"
      ],
      "execution_count": null,
      "outputs": []
    },
    {
      "cell_type": "code",
      "metadata": {
        "id": "n8hGMFWQv5e-"
      },
      "source": [
        "\n",
        "RandomForestClassifier(bootstrap=True, class_weight=None, criterion='gini',\n",
        "            max_depth=None, max_features='auto', max_leaf_nodes=None,\n",
        "            min_impurity_decrease=0.0, min_impurity_split=None,\n",
        "            min_samples_leaf=1, min_samples_split=2,\n",
        "            min_weight_fraction_leaf=0.0, n_estimators=100, n_jobs=1,\n",
        "            oob_score=False, random_state=None, verbose=0,\n",
        "            warm_start=False)\n",
        "\n"
      ],
      "execution_count": null,
      "outputs": []
    },
    {
      "cell_type": "code",
      "metadata": {
        "id": "Mh6p_fkOv5e-"
      },
      "source": [],
      "execution_count": null,
      "outputs": []
    }
  ]
}